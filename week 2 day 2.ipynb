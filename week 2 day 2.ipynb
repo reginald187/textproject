{
 "cells": [
  {
   "cell_type": "code",
   "execution_count": 8,
   "metadata": {},
   "outputs": [
    {
     "name": "stdout",
     "output_type": "stream",
     "text": [
      "200,202,204,206,208,220,222,224,226,228,240,242,244,246,248,260,262,264,266,268,280,282,284,286,288,400,"
     ]
    }
   ],
   "source": [
    "for i in range(100,401):\n",
    "    j=str(i)\n",
    "    if int(j[0])%2==0 and int(j[1])%2==0 and int(j[2])%2==0:\n",
    "        print(j, end=\",\")\n",
    "            "
   ]
  },
  {
   "cell_type": "code",
   "execution_count": 10,
   "metadata": {},
   "outputs": [
    {
     "name": "stdout",
     "output_type": "stream",
     "text": [
      "h h f h j b v h j "
     ]
    }
   ],
   "source": [
    "t=\"hhfhjbvhj\"\n",
    "for k in t:\n",
    "    print(k,end=\" \")"
   ]
  },
  {
   "cell_type": "code",
   "execution_count": null,
   "metadata": {},
   "outputs": [],
   "source": []
  },
  {
   "cell_type": "code",
   "execution_count": 1,
   "metadata": {},
   "outputs": [
    {
     "data": {
      "text/plain": [
       "'meri'"
      ]
     },
     "execution_count": 1,
     "metadata": {},
     "output_type": "execute_result"
    }
   ],
   "source": [
    "a=\"merit\"\n",
    "a[:-1]"
   ]
  },
  {
   "cell_type": "code",
   "execution_count": 9,
   "metadata": {},
   "outputs": [
    {
     "name": "stdout",
     "output_type": "stream",
     "text": [
      "200,202,204,206,208,220,222,224,226,228,240,242,244,246,248,260,262,264,266,268,280,282,284,286,288,400\n"
     ]
    }
   ],
   "source": [
    "ttt=[]\n",
    "for i in range(100,401):\n",
    "    j=str(i)\n",
    "    if int(j[0])%2==0 and int(j[1])%2==0 and int(j[2])%2==0:\n",
    "        ttt.append(j)\n",
    "for x in ttt[:-1]:\n",
    "    print(x, end=\",\")\n",
    "print(ttt[-1])"
   ]
  },
  {
   "cell_type": "markdown",
   "metadata": {},
   "source": [
    "## Login System"
   ]
  },
  {
   "cell_type": "code",
   "execution_count": 12,
   "metadata": {},
   "outputs": [
    {
     "name": "stdout",
     "output_type": "stream",
     "text": [
      "Enter User Name: SmartHub\n",
      "Enter password: Admin\n",
      "You are logged in!\n",
      "Enter User Name: mdxnckjdncjd\n",
      "Enter password: jbdbhjd\n",
      "Wrong password or user name! you have 1 trial(s) left\n",
      "Enter User Name: jdbhjdh\n",
      "Enter password: ddnbd\n",
      "Wrong password or user name! you have 0 trial(s) left\n"
     ]
    }
   ],
   "source": [
    "for i in range(3):\n",
    "    user_name=input(\"Enter User Name: \")\n",
    "    p_word=input(\"Enter password: \")\n",
    "    if (user_name==\"SmartHub\" and p_word==\"Admin\"):\n",
    "        print(\"You are logged in!\")\n",
    "        break\n",
    "    else:\n",
    "        print(f\"Wrong password or user name! you have {2-i} trial(s) left\")"
   ]
  },
  {
   "cell_type": "markdown",
   "metadata": {},
   "source": [
    "## Registration System"
   ]
  },
  {
   "cell_type": "code",
   "execution_count": 17,
   "metadata": {},
   "outputs": [
    {
     "name": "stdout",
     "output_type": "stream",
     "text": [
      "Enter User Name: ns\n",
      "Enter password: chdb\n",
      "Password must be at least 8 characters long! try again!\n",
      "You have 3 trial(s) left\n",
      "Enter User Name: sn\n",
      "Enter password: sjjs\n",
      "Password must be at least 8 characters long! try again!\n",
      "You have 2 trial(s) left\n",
      "Enter User Name: ss\n",
      "Enter password: jsnj\n",
      "Password must be at least 8 characters long! try again!\n",
      "You have 1 trial(s) left\n",
      "Enter User Name: ns\n",
      "Enter password: vgsds\n",
      "System will shut down due to your stupidity!! Please , don't come again!!!\n"
     ]
    }
   ],
   "source": [
    "for j in range(4):\n",
    "    user_name=input(\"Enter User Name: \")\n",
    "    p_word=input(\"Enter password: \")\n",
    "    if j==3:\n",
    "        print(\"System will shut down due to your stupidity!! Please , don't come again!!!\")\n",
    "        break\n",
    "    if len(p_word)>=8:\n",
    "        print(\"Congrats! registration Successful\")\n",
    "        break\n",
    "    else:\n",
    "        print(f\"Password must be at least 8 characters long! try again!\\nYou have {3-j} trial(s) left\")\n",
    "        \n",
    "    "
   ]
  },
  {
   "cell_type": "code",
   "execution_count": null,
   "metadata": {},
   "outputs": [],
   "source": [
    "## more string methods"
   ]
  },
  {
   "cell_type": "code",
   "execution_count": 18,
   "metadata": {},
   "outputs": [],
   "source": [
    "string1=\"programming is Wonderful\""
   ]
  },
  {
   "cell_type": "code",
   "execution_count": 19,
   "metadata": {},
   "outputs": [
    {
     "data": {
      "text/plain": [
       "6"
      ]
     },
     "execution_count": 19,
     "metadata": {},
     "output_type": "execute_result"
    }
   ],
   "source": [
    "string1.find(\"m\")"
   ]
  },
  {
   "cell_type": "code",
   "execution_count": 20,
   "metadata": {},
   "outputs": [
    {
     "data": {
      "text/plain": [
       "-1"
      ]
     },
     "execution_count": 20,
     "metadata": {},
     "output_type": "execute_result"
    }
   ],
   "source": [
    "string1.find(\"R\")"
   ]
  },
  {
   "cell_type": "code",
   "execution_count": 21,
   "metadata": {},
   "outputs": [
    {
     "data": {
      "text/plain": [
       "6"
      ]
     },
     "execution_count": 21,
     "metadata": {},
     "output_type": "execute_result"
    }
   ],
   "source": [
    "string1.index(\"m\")"
   ]
  },
  {
   "cell_type": "code",
   "execution_count": 22,
   "metadata": {},
   "outputs": [
    {
     "ename": "ValueError",
     "evalue": "substring not found",
     "output_type": "error",
     "traceback": [
      "\u001b[1;31m---------------------------------------------------------------------------\u001b[0m",
      "\u001b[1;31mValueError\u001b[0m                                Traceback (most recent call last)",
      "\u001b[1;32m<ipython-input-22-6125704220e0>\u001b[0m in \u001b[0;36m<module>\u001b[1;34m\u001b[0m\n\u001b[1;32m----> 1\u001b[1;33m \u001b[0mstring1\u001b[0m\u001b[1;33m.\u001b[0m\u001b[0mindex\u001b[0m\u001b[1;33m(\u001b[0m\u001b[1;34m\"R\"\u001b[0m\u001b[1;33m)\u001b[0m\u001b[1;33m\u001b[0m\u001b[1;33m\u001b[0m\u001b[0m\n\u001b[0m",
      "\u001b[1;31mValueError\u001b[0m: substring not found"
     ]
    }
   ],
   "source": [
    "string1.index(\"R\")"
   ]
  },
  {
   "cell_type": "code",
   "execution_count": 23,
   "metadata": {},
   "outputs": [
    {
     "data": {
      "text/plain": [
       "16"
      ]
     },
     "execution_count": 23,
     "metadata": {},
     "output_type": "execute_result"
    }
   ],
   "source": [
    "string1.index(\"onder\")"
   ]
  },
  {
   "cell_type": "code",
   "execution_count": 24,
   "metadata": {},
   "outputs": [
    {
     "data": {
      "text/plain": [
       "'programming is Wonderful'"
      ]
     },
     "execution_count": 24,
     "metadata": {},
     "output_type": "execute_result"
    }
   ],
   "source": [
    "string1"
   ]
  },
  {
   "cell_type": "code",
   "execution_count": 25,
   "metadata": {},
   "outputs": [
    {
     "data": {
      "text/plain": [
       "'pragramming is Wanderful'"
      ]
     },
     "execution_count": 25,
     "metadata": {},
     "output_type": "execute_result"
    }
   ],
   "source": [
    "string1.replace(\"o\",\"a\")"
   ]
  },
  {
   "cell_type": "code",
   "execution_count": 26,
   "metadata": {},
   "outputs": [
    {
     "data": {
      "text/plain": [
       "'programming is Wanderful'"
      ]
     },
     "execution_count": 26,
     "metadata": {},
     "output_type": "execute_result"
    }
   ],
   "source": [
    "string1.replace(\"on\",\"an\")"
   ]
  },
  {
   "cell_type": "code",
   "execution_count": 27,
   "metadata": {},
   "outputs": [
    {
     "data": {
      "text/plain": [
       "'programming is Wonderful'"
      ]
     },
     "execution_count": 27,
     "metadata": {},
     "output_type": "execute_result"
    }
   ],
   "source": [
    "string1"
   ]
  },
  {
   "cell_type": "code",
   "execution_count": 28,
   "metadata": {},
   "outputs": [
    {
     "data": {
      "text/plain": [
       "['programming', 'is', 'Wonderful']"
      ]
     },
     "execution_count": 28,
     "metadata": {},
     "output_type": "execute_result"
    }
   ],
   "source": [
    "string1.split()"
   ]
  },
  {
   "cell_type": "code",
   "execution_count": 29,
   "metadata": {},
   "outputs": [
    {
     "data": {
      "text/plain": [
       "['p', 'og', 'amming is Wonde', 'ful']"
      ]
     },
     "execution_count": 29,
     "metadata": {},
     "output_type": "execute_result"
    }
   ],
   "source": [
    "string1.split(\"r\")"
   ]
  },
  {
   "cell_type": "code",
   "execution_count": 31,
   "metadata": {},
   "outputs": [
    {
     "name": "stdout",
     "output_type": "stream",
     "text": [
      "Enter a word: george\n"
     ]
    }
   ],
   "source": [
    "word=input(\"Enter a word: \")\n",
    "if word.find(\"e\")==-1:\n",
    "    print(word)"
   ]
  },
  {
   "cell_type": "code",
   "execution_count": 33,
   "metadata": {},
   "outputs": [
    {
     "name": "stdout",
     "output_type": "stream",
     "text": [
      "Enter a word: success\n"
     ]
    }
   ],
   "source": [
    "word=input(\"Enter a word: \")\n",
    "if not (\"e\" in word):\n",
    "    print(word)\n",
    "    \n",
    "    "
   ]
  },
  {
   "cell_type": "markdown",
   "metadata": {},
   "source": [
    "## Lists "
   ]
  },
  {
   "cell_type": "code",
   "execution_count": null,
   "metadata": {},
   "outputs": [],
   "source": [
    "# Sequence of items  that is mutable\n",
    "# symbol is []"
   ]
  },
  {
   "cell_type": "code",
   "execution_count": 35,
   "metadata": {},
   "outputs": [],
   "source": [
    "names=[\"Reginald\",\"Joshua\",\"Kayode\",\"Precious\",\"Keneth\",\"Goodness\",\"Emmanuel\",\"Comfort\",\"Victor\"]"
   ]
  },
  {
   "cell_type": "code",
   "execution_count": 36,
   "metadata": {},
   "outputs": [
    {
     "data": {
      "text/plain": [
       "['Reginald',\n",
       " 'Joshua',\n",
       " 'Kayode',\n",
       " 'Precious',\n",
       " 'Keneth',\n",
       " 'Goodness',\n",
       " 'Emmanuel',\n",
       " 'Comfort',\n",
       " 'Victor']"
      ]
     },
     "execution_count": 36,
     "metadata": {},
     "output_type": "execute_result"
    }
   ],
   "source": [
    "names"
   ]
  },
  {
   "cell_type": "code",
   "execution_count": 37,
   "metadata": {},
   "outputs": [
    {
     "data": {
      "text/plain": [
       "9"
      ]
     },
     "execution_count": 37,
     "metadata": {},
     "output_type": "execute_result"
    }
   ],
   "source": [
    "len(names)"
   ]
  },
  {
   "cell_type": "code",
   "execution_count": 38,
   "metadata": {},
   "outputs": [
    {
     "data": {
      "text/plain": [
       "'Reginald'"
      ]
     },
     "execution_count": 38,
     "metadata": {},
     "output_type": "execute_result"
    }
   ],
   "source": [
    "names[0]"
   ]
  },
  {
   "cell_type": "code",
   "execution_count": 39,
   "metadata": {},
   "outputs": [
    {
     "data": {
      "text/plain": [
       "'Victor'"
      ]
     },
     "execution_count": 39,
     "metadata": {},
     "output_type": "execute_result"
    }
   ],
   "source": [
    "names[-1]"
   ]
  },
  {
   "cell_type": "code",
   "execution_count": 40,
   "metadata": {},
   "outputs": [
    {
     "data": {
      "text/plain": [
       "'Victor'"
      ]
     },
     "execution_count": 40,
     "metadata": {},
     "output_type": "execute_result"
    }
   ],
   "source": [
    "names[len(names)-1]"
   ]
  },
  {
   "cell_type": "code",
   "execution_count": 41,
   "metadata": {},
   "outputs": [],
   "source": [
    "names.sort()"
   ]
  },
  {
   "cell_type": "code",
   "execution_count": 42,
   "metadata": {},
   "outputs": [
    {
     "data": {
      "text/plain": [
       "['Comfort',\n",
       " 'Emmanuel',\n",
       " 'Goodness',\n",
       " 'Joshua',\n",
       " 'Kayode',\n",
       " 'Keneth',\n",
       " 'Precious',\n",
       " 'Reginald',\n",
       " 'Victor']"
      ]
     },
     "execution_count": 42,
     "metadata": {},
     "output_type": "execute_result"
    }
   ],
   "source": [
    "names"
   ]
  },
  {
   "cell_type": "code",
   "execution_count": 43,
   "metadata": {},
   "outputs": [],
   "source": [
    "# add items to a list \n",
    "\n",
    "names.append(\"Samuel\")"
   ]
  },
  {
   "cell_type": "code",
   "execution_count": 44,
   "metadata": {},
   "outputs": [
    {
     "data": {
      "text/plain": [
       "['Comfort',\n",
       " 'Emmanuel',\n",
       " 'Goodness',\n",
       " 'Joshua',\n",
       " 'Kayode',\n",
       " 'Keneth',\n",
       " 'Precious',\n",
       " 'Reginald',\n",
       " 'Victor',\n",
       " 'Samuel']"
      ]
     },
     "execution_count": 44,
     "metadata": {},
     "output_type": "execute_result"
    }
   ],
   "source": [
    "names"
   ]
  },
  {
   "cell_type": "code",
   "execution_count": 45,
   "metadata": {},
   "outputs": [],
   "source": [
    "names.append(\"xjsnss\")"
   ]
  },
  {
   "cell_type": "code",
   "execution_count": 46,
   "metadata": {},
   "outputs": [
    {
     "data": {
      "text/plain": [
       "['Comfort',\n",
       " 'Emmanuel',\n",
       " 'Goodness',\n",
       " 'Joshua',\n",
       " 'Kayode',\n",
       " 'Keneth',\n",
       " 'Precious',\n",
       " 'Reginald',\n",
       " 'Victor',\n",
       " 'Samuel',\n",
       " 'xjsnss']"
      ]
     },
     "execution_count": 46,
     "metadata": {},
     "output_type": "execute_result"
    }
   ],
   "source": [
    "names"
   ]
  },
  {
   "cell_type": "code",
   "execution_count": 47,
   "metadata": {},
   "outputs": [
    {
     "data": {
      "text/plain": [
       "'xjsnss'"
      ]
     },
     "execution_count": 47,
     "metadata": {},
     "output_type": "execute_result"
    }
   ],
   "source": [
    "names.pop()"
   ]
  },
  {
   "cell_type": "code",
   "execution_count": 48,
   "metadata": {},
   "outputs": [
    {
     "data": {
      "text/plain": [
       "['Comfort',\n",
       " 'Emmanuel',\n",
       " 'Goodness',\n",
       " 'Joshua',\n",
       " 'Kayode',\n",
       " 'Keneth',\n",
       " 'Precious',\n",
       " 'Reginald',\n",
       " 'Victor',\n",
       " 'Samuel']"
      ]
     },
     "execution_count": 48,
     "metadata": {},
     "output_type": "execute_result"
    }
   ],
   "source": [
    "names"
   ]
  },
  {
   "cell_type": "code",
   "execution_count": 49,
   "metadata": {},
   "outputs": [
    {
     "data": {
      "text/plain": [
       "'Kayode'"
      ]
     },
     "execution_count": 49,
     "metadata": {},
     "output_type": "execute_result"
    }
   ],
   "source": [
    "names.pop(4)"
   ]
  },
  {
   "cell_type": "code",
   "execution_count": 50,
   "metadata": {},
   "outputs": [
    {
     "data": {
      "text/plain": [
       "['Comfort',\n",
       " 'Emmanuel',\n",
       " 'Goodness',\n",
       " 'Joshua',\n",
       " 'Keneth',\n",
       " 'Precious',\n",
       " 'Reginald',\n",
       " 'Victor',\n",
       " 'Samuel']"
      ]
     },
     "execution_count": 50,
     "metadata": {},
     "output_type": "execute_result"
    }
   ],
   "source": [
    "names"
   ]
  },
  {
   "cell_type": "code",
   "execution_count": 51,
   "metadata": {},
   "outputs": [],
   "source": [
    "names.remove('Reginald')"
   ]
  },
  {
   "cell_type": "code",
   "execution_count": 52,
   "metadata": {},
   "outputs": [
    {
     "data": {
      "text/plain": [
       "['Comfort',\n",
       " 'Emmanuel',\n",
       " 'Goodness',\n",
       " 'Joshua',\n",
       " 'Keneth',\n",
       " 'Precious',\n",
       " 'Victor',\n",
       " 'Samuel']"
      ]
     },
     "execution_count": 52,
     "metadata": {},
     "output_type": "execute_result"
    }
   ],
   "source": [
    "names"
   ]
  },
  {
   "cell_type": "code",
   "execution_count": 53,
   "metadata": {},
   "outputs": [
    {
     "ename": "ValueError",
     "evalue": "list.remove(x): x not in list",
     "output_type": "error",
     "traceback": [
      "\u001b[1;31m---------------------------------------------------------------------------\u001b[0m",
      "\u001b[1;31mValueError\u001b[0m                                Traceback (most recent call last)",
      "\u001b[1;32m<ipython-input-53-422530fdf632>\u001b[0m in \u001b[0;36m<module>\u001b[1;34m\u001b[0m\n\u001b[1;32m----> 1\u001b[1;33m \u001b[0mnames\u001b[0m\u001b[1;33m.\u001b[0m\u001b[0mremove\u001b[0m\u001b[1;33m(\u001b[0m\u001b[1;34m\"jess\"\u001b[0m\u001b[1;33m)\u001b[0m\u001b[1;33m\u001b[0m\u001b[1;33m\u001b[0m\u001b[0m\n\u001b[0m",
      "\u001b[1;31mValueError\u001b[0m: list.remove(x): x not in list"
     ]
    }
   ],
   "source": [
    "names.remove(\"jess\")"
   ]
  },
  {
   "cell_type": "code",
   "execution_count": 54,
   "metadata": {},
   "outputs": [
    {
     "name": "stdout",
     "output_type": "stream",
     "text": [
      "Item not found!\n"
     ]
    }
   ],
   "source": [
    "if \"jess\" in names:\n",
    "    names.remove(\"jess\")\n",
    "else:\n",
    "    print(\"Item not found!\")"
   ]
  },
  {
   "cell_type": "code",
   "execution_count": 56,
   "metadata": {},
   "outputs": [],
   "source": [
    "if 'Keneth' in names:\n",
    "    names.remove('Keneth')\n",
    "else:\n",
    "    print(\"Item not found!\")"
   ]
  },
  {
   "cell_type": "code",
   "execution_count": 57,
   "metadata": {},
   "outputs": [
    {
     "data": {
      "text/plain": [
       "['Comfort', 'Emmanuel', 'Goodness', 'Joshua', 'Precious', 'Victor', 'Samuel']"
      ]
     },
     "execution_count": 57,
     "metadata": {},
     "output_type": "execute_result"
    }
   ],
   "source": [
    "names"
   ]
  },
  {
   "cell_type": "code",
   "execution_count": 59,
   "metadata": {},
   "outputs": [
    {
     "name": "stdout",
     "output_type": "stream",
     "text": [
      "[87, 67, 89]\n"
     ]
    }
   ],
   "source": [
    "items=[23,90,87,67,89,12]\n",
    "items.remove(12)\n",
    "items.remove(23)\n",
    "items.remove(90)\n",
    "print(items)\n"
   ]
  },
  {
   "cell_type": "code",
   "execution_count": 61,
   "metadata": {},
   "outputs": [],
   "source": [
    "item2=[1,3,4,5,6,8,9,10]"
   ]
  },
  {
   "cell_type": "code",
   "execution_count": 62,
   "metadata": {},
   "outputs": [],
   "source": [
    "item2.insert(1,2)"
   ]
  },
  {
   "cell_type": "code",
   "execution_count": 63,
   "metadata": {},
   "outputs": [
    {
     "data": {
      "text/plain": [
       "[1, 2, 3, 4, 5, 6, 8, 9, 10]"
      ]
     },
     "execution_count": 63,
     "metadata": {},
     "output_type": "execute_result"
    }
   ],
   "source": [
    "item2"
   ]
  },
  {
   "cell_type": "markdown",
   "metadata": {},
   "source": [
    "## A closing Remark , with game"
   ]
  },
  {
   "cell_type": "code",
   "execution_count": 68,
   "metadata": {},
   "outputs": [
    {
     "data": {
      "text/plain": [
       "3"
      ]
     },
     "execution_count": 68,
     "metadata": {},
     "output_type": "execute_result"
    }
   ],
   "source": [
    "import random\n",
    "t=[3,5,67,4,3,2]\n",
    "random.choice(t)"
   ]
  },
  {
   "cell_type": "code",
   "execution_count": 78,
   "metadata": {},
   "outputs": [
    {
     "data": {
      "text/plain": [
       "'paper'"
      ]
     },
     "execution_count": 78,
     "metadata": {},
     "output_type": "execute_result"
    }
   ],
   "source": [
    "options=[\"rock\",\"paper\",\"scissors\"]\n",
    "random.choice(options)"
   ]
  },
  {
   "cell_type": "code",
   "execution_count": 81,
   "metadata": {},
   "outputs": [
    {
     "name": "stdout",
     "output_type": "stream",
     "text": [
      "Game choice: scissor(3)  ,rock(1) and paper(2) \n",
      "Make a choice(1,2 or 3)1\n",
      "computer choosed scissors , hence you won!\n",
      "Make a choice(1,2 or 3)1\n",
      "computer choosed paper , hence computer won!\n",
      "Make a choice(1,2 or 3)2\n",
      "computer choosed scissors , hence computer won!\n",
      "Make a choice(1,2 or 3)3\n",
      "computer choosed rock , hence computer won!\n",
      "Make a choice(1,2 or 3)2\n",
      "computer choosed scissors , hence computer won!\n"
     ]
    }
   ],
   "source": [
    "#1 ->rock\n",
    "# 2->paper\n",
    "# 3->scissors\n",
    "print(\"Game choice: scissor(3)  ,rock(1) and paper(2) \")\n",
    "options=[1,2,3]\n",
    "for i in range(5):\n",
    "    comp_choice=random.choice(options)\n",
    "    user_choice=int(input(\"Make a choice(1,2 or 3)\"))\n",
    "    if user_choice==1 and comp_choice==2:\n",
    "        print(\"computer choosed paper , hence computer won!\")\n",
    "    elif user_choice==1 and comp_choice==3:\n",
    "        print(\"computer choosed scissors , hence you won!\")\n",
    "    elif user_choice==2 and comp_choice==1:\n",
    "        print(\"computer choosed rock , hence you won!\")\n",
    "    elif user_choice==2 and comp_choice==3:\n",
    "        print(\"computer choosed scissors , hence computer won!\")\n",
    "    elif user_choice==3 and comp_choice==1:\n",
    "        print(\"computer choosed rock , hence computer won!\")\n",
    "    elif user_choice==3 and comp_choice==2:\n",
    "        print(\"computer choosed paper , hence you won!\")\n",
    "    else:\n",
    "        print(\"It is a draw!!!!\")\n",
    "    \n",
    "        \n",
    "        \n",
    "    \n"
   ]
  },
  {
   "cell_type": "code",
   "execution_count": null,
   "metadata": {},
   "outputs": [],
   "source": []
  },
  {
   "cell_type": "code",
   "execution_count": null,
   "metadata": {},
   "outputs": [],
   "source": []
  },
  {
   "cell_type": "code",
   "execution_count": null,
   "metadata": {},
   "outputs": [],
   "source": []
  }
 ],
 "metadata": {
  "kernelspec": {
   "display_name": "Python 3",
   "language": "python",
   "name": "python3"
  },
  "language_info": {
   "codemirror_mode": {
    "name": "ipython",
    "version": 3
   },
   "file_extension": ".py",
   "mimetype": "text/x-python",
   "name": "python",
   "nbconvert_exporter": "python",
   "pygments_lexer": "ipython3",
   "version": "3.7.0"
  }
 },
 "nbformat": 4,
 "nbformat_minor": 2
}
